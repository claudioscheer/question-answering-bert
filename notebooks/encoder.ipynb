{
 "cells": [
  {
   "cell_type": "markdown",
   "metadata": {},
   "source": [
    "## Encoder"
   ]
  },
  {
   "cell_type": "markdown",
   "metadata": {},
   "source": [
    "This notebook defines the source code that we will use in the encoder network. The implementation of this notebook is at `src/lib/encoder.py`.\n",
    "\n",
    "The class Encoder inherit the `nn.Module` of PyTorch."
   ]
  },
  {
   "cell_type": "markdown",
   "metadata": {},
   "source": [
    "### `__init__`"
   ]
  },
  {
   "cell_type": "markdown",
   "metadata": {},
   "source": [
    "The encoder class takes as parameter the following:\n",
    "\n",
    "- `number_tokens`: the number of words in the dictionary;\n",
    "- `embedding_dim`: the size of the embedding layer;\n",
    "- `hidden_size_rnn`: the hidden size of the recurrent neural network;\n",
    "- `number_layers_rnn`: the number of recurrent layers;\n",
    "- `dropout`: the probability of zeroing some input value.\n",
    "\n",
    "The next step is to define the layers that will be used in the encoder network. The next cells explains how an `Embedding`, a `Dropout` and a `LSTM` layer works."
   ]
  },
  {
   "cell_type": "markdown",
   "metadata": {},
   "source": [
    "#### Embedding"
   ]
  },
  {
   "cell_type": "markdown",
   "metadata": {},
   "source": []
  }
 ],
 "metadata": {
  "kernelspec": {
   "display_name": "Python 3",
   "language": "python",
   "name": "python3"
  },
  "language_info": {
   "codemirror_mode": {
    "name": "ipython",
    "version": 3
   },
   "file_extension": ".py",
   "mimetype": "text/x-python",
   "name": "python",
   "nbconvert_exporter": "python",
   "pygments_lexer": "ipython3",
   "version": "3.8.3"
  },
  "toc": {
   "base_numbering": 1,
   "nav_menu": {},
   "number_sections": true,
   "sideBar": true,
   "skip_h1_title": false,
   "title_cell": "Table of Contents",
   "title_sidebar": "Contents",
   "toc_cell": false,
   "toc_position": {},
   "toc_section_display": true,
   "toc_window_display": false
  }
 },
 "nbformat": 4,
 "nbformat_minor": 4
}
