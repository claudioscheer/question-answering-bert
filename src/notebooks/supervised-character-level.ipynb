{
 "cells": [
  {
   "cell_type": "markdown",
   "metadata": {},
   "source": [
    "## About"
   ]
  },
  {
   "cell_type": "markdown",
   "metadata": {},
   "source": [
    "This notebook trains a recurrent neural network using a supervised dataset."
   ]
  },
  {
   "cell_type": "markdown",
   "metadata": {},
   "source": [
    "## Dataset"
   ]
  },
  {
   "cell_type": "markdown",
   "metadata": {},
   "source": [
    "In this section, we load the dataset and pre-process questions and answers that will be use to train the network."
   ]
  },
  {
   "cell_type": "markdown",
   "metadata": {},
   "source": [
    "Define some useful functions:"
   ]
  },
  {
   "cell_type": "code",
   "execution_count": 43,
   "metadata": {
    "ExecuteTime": {
     "end_time": "2020-05-22T20:49:28.871010Z",
     "start_time": "2020-05-22T20:49:28.865568Z"
    }
   },
   "outputs": [],
   "source": [
    "def add_final_sentence_character(sentence, final_character=\"|\"):\n",
    "    return f\"{sentence}{final_character}\"\n",
    "\n",
    "\n",
    "def sentence2int(sentence, character2int):\n",
    "    return [character2int[character] for character in sentence]\n",
    "\n",
    "\n",
    "def pad_sentence(sentence, size, pad_character=\" \"):\n",
    "    return str(sentence).ljust(size, pad_character)"
   ]
  },
  {
   "cell_type": "code",
   "execution_count": 45,
   "metadata": {
    "ExecuteTime": {
     "end_time": "2020-05-22T20:55:22.361202Z",
     "start_time": "2020-05-22T20:55:22.345495Z"
    }
   },
   "outputs": [],
   "source": [
    "import pandas as pd\n",
    "\n",
    "\n",
    "dataset = pd.read_csv(\"../dataset/supervised.csv\", header=0)\n",
    "questions = [add_final_sentence_character(x) for x in dataset[\"question\"]]\n",
    "answers = [add_final_sentence_character(x) for x in dataset[\"answer\"]]\n",
    "\n",
    "unique_characters = set(\"\".join(questions + answers))\n",
    "unique_characters_length = len(unique_characters)\n",
    "\n",
    "character2int = {character: i for i, character in enumerate(unique_characters)}\n",
    "int2character = {i: character for i, character in enumerate(unique_characters)}"
   ]
  },
  {
   "cell_type": "code",
   "execution_count": 46,
   "metadata": {
    "ExecuteTime": {
     "end_time": "2020-05-22T20:55:24.398754Z",
     "start_time": "2020-05-22T20:55:24.390535Z"
    }
   },
   "outputs": [],
   "source": [
    "longer_question_length = len(max(questions, key=len))\n",
    "longer_answer_length = len(max(answers, key=len))\n",
    "\n",
    "questions = [pad_sentence(x, longer_question_length) for x in questions]\n",
    "answers = [pad_sentence(x, longer_answer_length) for x in answers]"
   ]
  },
  {
   "cell_type": "markdown",
   "metadata": {},
   "source": [
    "## Network"
   ]
  },
  {
   "cell_type": "markdown",
   "metadata": {
    "ExecuteTime": {
     "end_time": "2020-05-22T20:57:53.875552Z",
     "start_time": "2020-05-22T20:57:53.866638Z"
    }
   },
   "source": [
    "This section defines the network architecture that will be used."
   ]
  },
  {
   "cell_type": "code",
   "execution_count": null,
   "metadata": {},
   "outputs": [],
   "source": [
    "import torch\n",
    "import torch.nn as nn\n",
    "\n",
    "\n",
    "class RecurrentNetwork:\n",
    "    def __init__(self, input_size, hidden_dim_rnn, n_layers_rnn, output_size):\n",
    "        super(RecurrentNetwork, self).__init__()\n",
    "\n",
    "        self.input_size = input_size\n",
    "        self.output_size = output_size\n",
    "        self.hidden_dim_rnn = hidden_dim_rnn\n",
    "        self.n_layers_rnn = n_layers_rnn\n",
    "\n",
    "        self.rnn = nn.RNN(\n",
    "            input_size,\n",
    "            hidden_dim_rnn,\n",
    "            n_layers_rnn,\n",
    "            batch_first=True,\n",
    "            nonlinearity=\"relu\"\n",
    "        )\n",
    "        self.fc = nn.Linear(hidden_dim_rnn, output_size)\n",
    "\n",
    "    def forward(self, x, hidden_state):\n",
    "        "
   ]
  }
 ],
 "metadata": {
  "kernelspec": {
   "display_name": "Python 3",
   "language": "python",
   "name": "python3"
  },
  "language_info": {
   "codemirror_mode": {
    "name": "ipython",
    "version": 3
   },
   "file_extension": ".py",
   "mimetype": "text/x-python",
   "name": "python",
   "nbconvert_exporter": "python",
   "pygments_lexer": "ipython3",
   "version": "3.8.3"
  },
  "toc": {
   "base_numbering": 1,
   "nav_menu": {},
   "number_sections": true,
   "sideBar": true,
   "skip_h1_title": false,
   "title_cell": "Table of Contents",
   "title_sidebar": "Contents",
   "toc_cell": false,
   "toc_position": {},
   "toc_section_display": true,
   "toc_window_display": false
  }
 },
 "nbformat": 4,
 "nbformat_minor": 4
}
